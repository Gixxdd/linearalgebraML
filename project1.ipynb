{
 "cells": [
  {
   "cell_type": "code",
   "execution_count": null,
   "id": "90119ca1",
   "metadata": {},
   "outputs": [],
   "source": [
    "from Bio.PDB import PDBParser, NeighborSearch\n",
    "import numpy as np\n",
    "import matplotlib.pyplot as plt\n",
    "import networkx as nx"
   ]
  },
  {
   "cell_type": "code",
   "execution_count": null,
   "id": "29edacbc",
   "metadata": {},
   "outputs": [],
   "source": [
    "pdb_code = \"1ACJ\"\n",
    "filename = f\"{pdb_code}.pdb\"\n",
    "parser = PDBParser(QUIET=True)\n",
    "structure = parser.get_structure(pdb_code, filename)\n",
    "model = structure[0]\n",
    "chain = model[\"A\"]\n",
    "residues = [res for res in chain if 200 <= res.get_id()[1] <= 210]\n",
    "atoms = [atom for res in residues for atom in res]\n",
    "G = nx.Graph()\n",
    "coords = np.array([atom.coord for atom in atoms])\n"
   ]
  },
  {
   "cell_type": "code",
   "execution_count": null,
   "id": "e309ac6d",
   "metadata": {},
   "outputs": [],
   "source": [
    "for i, atom in enumerate(atoms):\n",
    "    G.add_node(i, label=atom.get_name(), element=atom.element)\n",
    "    "
   ]
  },
  {
   "cell_type": "code",
   "execution_count": null,
   "id": "a57d524a",
   "metadata": {},
   "outputs": [],
   "source": [
    "cutoff = 2.0\n",
    "for i in range(len(atoms)):\n",
    "    for j in range(i+1, len(atoms)):\n",
    "        dist = np.linalg.norm(coords[1] - coords[j])\n",
    "        if dist < cutoff:\n",
    "            G.add_edge(i, j)"
   ]
  },
  {
   "cell_type": "code",
   "execution_count": null,
   "id": "f951b815",
   "metadata": {},
   "outputs": [],
   "source": [
    "A = nx.adjacency_matrix(G).toarray()\n",
    "print(\"Matriz de adjacência (dimensão: {}x{}):\\n\".format(*A.shape), A)"
   ]
  },
  {
   "cell_type": "code",
   "execution_count": null,
   "id": "7421556a",
   "metadata": {},
   "outputs": [],
   "source": [
    "labels = nx.get_node_attributes(G, 'element')\n",
    "plt.figure(figsize=(8, 6))\n",
    "pos = nx.spring_layout(G)\n",
    "nx.draw(G, pos, labels=labels, with_labels=True, node_color='lightblue', edge_color='gray')\n",
    "plt.title(\"Grafo da região ativa da enzima\")\n",
    "plt.show()"
   ]
  }
 ],
 "metadata": {
  "language_info": {
   "name": "python"
  }
 },
 "nbformat": 4,
 "nbformat_minor": 5
}
